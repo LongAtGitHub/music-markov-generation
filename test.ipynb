{
 "cells": [
  {
   "cell_type": "code",
   "execution_count": 1,
   "metadata": {},
   "outputs": [],
   "source": [
    "from markov_generator import MarkovChainMelodyGenerator"
   ]
  },
  {
   "cell_type": "code",
   "execution_count": 2,
   "metadata": {},
   "outputs": [
    {
     "ename": "AttributeError",
     "evalue": "'Key' object has no attribute 'keySignature'",
     "output_type": "error",
     "traceback": [
      "\u001b[1;31m---------------------------------------------------------------------------\u001b[0m",
      "\u001b[1;31mAttributeError\u001b[0m                            Traceback (most recent call last)",
      "Cell \u001b[1;32mIn[2], line 6\u001b[0m\n\u001b[0;32m      3\u001b[0m midi_file_path \u001b[38;5;241m=\u001b[39m \u001b[38;5;124m\"\u001b[39m\u001b[38;5;124minput_reference/Canon_in_D_easy.mid\u001b[39m\u001b[38;5;124m\"\u001b[39m\n\u001b[0;32m      4\u001b[0m generator \u001b[38;5;241m=\u001b[39m MarkovChainMelodyGenerator(midi_file_path)\n\u001b[1;32m----> 6\u001b[0m generated_melody \u001b[38;5;241m=\u001b[39m \u001b[43mgenerator\u001b[49m\u001b[38;5;241;43m.\u001b[39;49m\u001b[43mgenerate_markov_chain_melody\u001b[49m\u001b[43m(\u001b[49m\u001b[43mlength\u001b[49m\u001b[38;5;241;43m=\u001b[39;49m\u001b[38;5;241;43m20\u001b[39;49m\u001b[43m,\u001b[49m\u001b[43m \u001b[49m\u001b[43moutput_folder\u001b[49m\u001b[38;5;241;43m=\u001b[39;49m\u001b[38;5;124;43m'\u001b[39;49m\u001b[38;5;124;43m./test_case\u001b[39;49m\u001b[38;5;124;43m'\u001b[39;49m\u001b[43m,\u001b[49m\u001b[43m \u001b[49m\u001b[43moutput_name\u001b[49m\u001b[38;5;241;43m=\u001b[39;49m\u001b[38;5;124;43m'\u001b[39;49m\u001b[38;5;124;43mgenerated_melody_canon\u001b[39;49m\u001b[38;5;124;43m'\u001b[39;49m\u001b[43m)\u001b[49m\n",
      "File \u001b[1;32mc:\\Users\\Long Truong\\Documents\\GitHub\\MusicGPT_Test\\markov_generator.py:60\u001b[0m, in \u001b[0;36mMarkovChainMelodyGenerator.generate_markov_chain_melody\u001b[1;34m(self, length, output_folder, output_name)\u001b[0m\n\u001b[0;32m     58\u001b[0m \u001b[38;5;28;01mdef\u001b[39;00m \u001b[38;5;21mgenerate_markov_chain_melody\u001b[39m(\u001b[38;5;28mself\u001b[39m, length\u001b[38;5;241m=\u001b[39m\u001b[38;5;241m20\u001b[39m, output_folder\u001b[38;5;241m=\u001b[39m\u001b[38;5;28;01mNone\u001b[39;00m, output_name\u001b[38;5;241m=\u001b[39m\u001b[38;5;28;01mNone\u001b[39;00m):\n\u001b[0;32m     59\u001b[0m     \u001b[38;5;28mself\u001b[39m\u001b[38;5;241m.\u001b[39mmelody_sequence \u001b[38;5;241m=\u001b[39m \u001b[38;5;28mself\u001b[39m\u001b[38;5;241m.\u001b[39mextract_melody_sequence()\n\u001b[1;32m---> 60\u001b[0m     \u001b[38;5;28;43mself\u001b[39;49m\u001b[38;5;241;43m.\u001b[39;49m\u001b[43manalyze_key_signature\u001b[49m\u001b[43m(\u001b[49m\u001b[43m)\u001b[49m\n\u001b[0;32m     62\u001b[0m     \u001b[38;5;66;03m# Generate a new melody\u001b[39;00m\n\u001b[0;32m     63\u001b[0m     generated_melody \u001b[38;5;241m=\u001b[39m \u001b[38;5;28mself\u001b[39m\u001b[38;5;241m.\u001b[39mgenerate_new_melody(length)\n",
      "File \u001b[1;32mc:\\Users\\Long Truong\\Documents\\GitHub\\MusicGPT_Test\\markov_generator.py:26\u001b[0m, in \u001b[0;36mMarkovChainMelodyGenerator.analyze_key_signature\u001b[1;34m(self)\u001b[0m\n\u001b[0;32m     24\u001b[0m \u001b[38;5;28;01mdef\u001b[39;00m \u001b[38;5;21manalyze_key_signature\u001b[39m(\u001b[38;5;28mself\u001b[39m):\n\u001b[0;32m     25\u001b[0m     key_analysis \u001b[38;5;241m=\u001b[39m \u001b[38;5;28mself\u001b[39m\u001b[38;5;241m.\u001b[39mmelody_part\u001b[38;5;241m.\u001b[39manalyze(\u001b[38;5;124m'\u001b[39m\u001b[38;5;124mkey\u001b[39m\u001b[38;5;124m'\u001b[39m)\n\u001b[1;32m---> 26\u001b[0m     \u001b[38;5;28mself\u001b[39m\u001b[38;5;241m.\u001b[39mkey_signature \u001b[38;5;241m=\u001b[39m \u001b[43mkey_analysis\u001b[49m\u001b[38;5;241;43m.\u001b[39;49m\u001b[43mkeySignature\u001b[49m\n\u001b[0;32m     27\u001b[0m     \u001b[38;5;28mself\u001b[39m\u001b[38;5;241m.\u001b[39mtonic_note \u001b[38;5;241m=\u001b[39m key_analysis\u001b[38;5;241m.\u001b[39mtonic\u001b[38;5;241m.\u001b[39mmidi\n",
      "\u001b[1;31mAttributeError\u001b[0m: 'Key' object has no attribute 'keySignature'"
     ]
    }
   ],
   "source": [
    "# Example usage:\n",
    "\n",
    "midi_file_path = \"input_reference/Canon_in_D_easy.mid\"\n",
    "generator = MarkovChainMelodyGenerator(midi_file_path)\n",
    "\n",
    "generated_melody = generator.generate_markov_chain_melody(length=20, output_folder='./test_case', output_name='generated_melody_canon')"
   ]
  },
  {
   "cell_type": "code",
   "execution_count": null,
   "metadata": {},
   "outputs": [],
   "source": [
    "print(generator.key_signature)\n"
   ]
  }
 ],
 "metadata": {
  "kernelspec": {
   "display_name": "Python 3",
   "language": "python",
   "name": "python3"
  },
  "language_info": {
   "codemirror_mode": {
    "name": "ipython",
    "version": 3
   },
   "file_extension": ".py",
   "mimetype": "text/x-python",
   "name": "python",
   "nbconvert_exporter": "python",
   "pygments_lexer": "ipython3",
   "version": "3.10.11"
  }
 },
 "nbformat": 4,
 "nbformat_minor": 2
}
